{
 "cells": [
  {
   "cell_type": "markdown",
   "metadata": {
    "_cell_guid": "dc1e7b02-f022-48ca-a270-21f4b0c70835",
    "_uuid": "0696f41450f17b2e0ebbbbb30a29053cde7de211"
   },
   "source": [
    "*This tutorial is part of the series [Learning Machine Learning](kaggle.com/learn/machine-learning).*\n",
    "\n",
    "# Choosing the Prediction Target\n",
    "\n",
    "You have the code to load your data, and you know how to index it. You are ready to choose which column you want to predict. This column is called the **prediction target**. There is a convention that the prediction target is referred to as **y**. Here is an example doing that with the example data."
   ]
  },
  {
   "cell_type": "code",
   "execution_count": 1,
   "metadata": {
    "_cell_guid": "7077d33f-39ee-49ee-ac99-db2832a0662a",
    "_kg_hide-input": true,
    "_kg_hide-output": true,
    "_uuid": "ee9319beba1ff270e59644d7f62ec76658994e13"
   },
   "outputs": [],
   "source": [
    "# This code loads the data. You have seen it before, so you don't need to focus on it here.\n",
    "\n",
    "import pandas as pd\n",
    "\n",
    "melbourne_file_path = './data/melbourne-housing-snapshot/melb_data.csv'\n",
    "melbourne_data = pd.read_csv(melbourne_file_path)\n",
    "\n",
    "# The Melbourne data has somemissing values (some houses for which some variables weren't recorded.)\n",
    "# We'll learn to handle missing values in a later tutorial.  \n",
    "# Your Iowa data doesn't have missing values in the predictors you use. \n",
    "# So we will take the simplest option for now, and drop those houses from our data. \n",
    "#Don't worry about this much for now, though the code is:\n",
    "\n",
    "# dropna drops missing values (think of na as \"not available\")\n",
    "melbourne_data = melbourne_data.dropna(axis=0)"
   ]
  },
  {
   "cell_type": "code",
   "execution_count": 2,
   "metadata": {
    "_cell_guid": "e5a6c21c-cda7-4df8-a9e9-15a2ae865026",
    "_uuid": "599dc0855ff966c6e8d84b5bd447b315bf85e339"
   },
   "outputs": [],
   "source": [
    "y = melbourne_data['Price']"
   ]
  },
  {
   "cell_type": "markdown",
   "metadata": {
    "_cell_guid": "a52b0b8d-ea0a-435b-bde1-1472f63977ba",
    "_uuid": "a0fac0889241e77f2e2deefbd63bc9f057d0c826"
   },
   "source": [
    "# Choosing Predictors\n",
    "Next we select the predictors. Sometimes, you will want to use all of the variables except the target..\n",
    "\n",
    "It's possible to model with non-numeric variables, but we'll start with a narrower set of numeric variables.  In the example data, the predictors will be chosen as:"
   ]
  },
  {
   "cell_type": "code",
   "execution_count": 3,
   "metadata": {
    "_cell_guid": "b45e6964-5379-44b5-980c-11e556f34a4f",
    "_uuid": "001553f51fbd9c115b7728e625fd6c2830852071"
   },
   "outputs": [],
   "source": [
    "melbourne_predictors = ['Rooms', 'Bathroom', 'Landsize', 'BuildingArea', 'YearBuilt', 'Lattitude', 'Longtitude']"
   ]
  },
  {
   "cell_type": "markdown",
   "metadata": {
    "_cell_guid": "e30af6f8-45b8-4e33-9c3b-52a88266aee6",
    "_uuid": "f9d9562f7d3a41042c3bb3beb64056993703735d"
   },
   "source": [
    "By convention, this data is called **X**."
   ]
  },
  {
   "cell_type": "code",
   "execution_count": 4,
   "metadata": {
    "_cell_guid": "f3ce77d5-06e2-4433-b392-16d54014d2c8",
    "_uuid": "19b3d59d66644a58125cb8d41636a169d4c10af9"
   },
   "outputs": [],
   "source": [
    "X = melbourne_data[melbourne_predictors]"
   ]
  },
  {
   "cell_type": "markdown",
   "metadata": {
    "_cell_guid": "acd7ddac-58c4-403c-b39f-d648a6bd271c",
    "_uuid": "8a4f43b00b0243645d5d12ef0ae402c8106bf10f"
   },
   "source": [
    "---\n",
    "# Building Your Model\n",
    "\n",
    "You will use the **scikit-learn** library to create your models.  When coding, this library is written as **sklearn**, as you will see in the sample code. Scikit-learn is easily the most popular library for modeling the types of data typically stored in DataFrames. \n",
    "\n",
    "The steps to building and using a model are:\n",
    "* **Define:** What type of model will it be?  A decision tree?  Some other type of model? Some other parameters of the model type are specified too.\n",
    "* **Fit:** Capture patterns from provided data. This is the heart of modeling.\n",
    "* **Predict:** Just what it sounds like\n",
    "* **Evaluate**: Determine how accurate the model's predictions are.\n",
    "\n",
    "Here is the example for defining and fitting the model."
   ]
  },
  {
   "cell_type": "code",
   "execution_count": 5,
   "metadata": {
    "_cell_guid": "8a390b1d-ae2a-4b73-b524-0dfde22879f7",
    "_uuid": "4d35fb0ec4c75f00d91f1d7d668af4afdd6d19fe"
   },
   "outputs": [
    {
     "data": {
      "text/plain": [
       "DecisionTreeRegressor(criterion='mse', max_depth=None, max_features=None,\n",
       "           max_leaf_nodes=None, min_impurity_decrease=0.0,\n",
       "           min_impurity_split=None, min_samples_leaf=1,\n",
       "           min_samples_split=2, min_weight_fraction_leaf=0.0,\n",
       "           presort=False, random_state=None, splitter='best')"
      ]
     },
     "execution_count": 5,
     "metadata": {},
     "output_type": "execute_result"
    }
   ],
   "source": [
    "from sklearn.tree import DecisionTreeRegressor\n",
    "\n",
    "# Define model\n",
    "melbourne_model = DecisionTreeRegressor()\n",
    "\n",
    "# Fit model\n",
    "melbourne_model.fit(X, y)"
   ]
  },
  {
   "cell_type": "markdown",
   "metadata": {
    "_cell_guid": "976d98bc-4e00-4f8c-9810-b1ba35086f1f",
    "_uuid": "69c736b1d49b0de7bc7b6c9e60b6ac84f621fbc2"
   },
   "source": [
    "The output describes some parameters about the type of model you've built. Don't worry about it for now."
   ]
  },
  {
   "cell_type": "markdown",
   "metadata": {
    "_cell_guid": "60aade6d-4f6c-482e-9e93-bffa1bc51e7b",
    "_uuid": "1ff19fb070af2b731ce8343dbfea16708ce437bb"
   },
   "source": [
    "In practice, you'll want to make predictions for new houses coming on the market rather than the houses we already have prices for. But we'll make predictions for the first rows of the training data to see how the predict function works.\n"
   ]
  },
  {
   "cell_type": "code",
   "execution_count": 8,
   "metadata": {
    "_cell_guid": "cd6bded9-35a7-478a-8616-9d37e7a2a783",
    "_uuid": "19bb827c7aa5a17feeef4dc368cc8da95cc9b09a"
   },
   "outputs": [
    {
     "name": "stdout",
     "output_type": "stream",
     "text": [
      "Making predictions for the following 5 houses:\n",
      "   Rooms  Bathroom  Landsize  BuildingArea  YearBuilt  Lattitude  Longtitude\n",
      "1      2       1.0     156.0          79.0     1900.0   -37.8079    144.9934\n",
      "2      3       2.0     134.0         150.0     1900.0   -37.8093    144.9944\n",
      "4      4       1.0     120.0         142.0     2014.0   -37.8072    144.9941\n",
      "6      3       2.0     245.0         210.0     1910.0   -37.8024    144.9993\n",
      "7      2       1.0     256.0         107.0     1890.0   -37.8060    144.9954\n",
      "The predictions are\n",
      "[1035000. 1465000. 1600000. 1876000. 1636000.]\n"
     ]
    }
   ],
   "source": [
    "print(\"Making predictions for the following 5 houses:\")\n",
    "print(X.head())\n",
    "print(\"The predictions are\")\n",
    "print(melbourne_model.predict(X.head()))"
   ]
  },
  {
   "cell_type": "markdown",
   "metadata": {
    "_cell_guid": "ab6189e0-8a2c-4cc2-89dc-ac71ffac5e7c",
    "_uuid": "ee8a624a186babbcdc09655089ba2067e206118e"
   },
   "source": [
    "---\n",
    "\n",
    "# Your Turn\n",
    "Now it's time for you to define and fit a model for your data (in your notebook).\n",
    "1. Select the target variable you want to predict. You can go back to the list of columns from your earlier commands to recall what it's called (*hint: you've already worked with this variable*). Save this to a new variable called `y`.\n",
    "2. Create a **list** of the names of the predictors we will use in the initial model.  Use just the following columns in the list (you can copy and paste the whole list to save some typing, though you'll still need to add quotes):\n",
    "    * LotArea\n",
    "    * YearBuilt\n",
    "    * 1stFlrSF\n",
    "    * 2ndFlrSF\n",
    "    * FullBath\n",
    "    * BedroomAbvGr\n",
    "    * TotRmsAbvGrd\n",
    "\n",
    "3. Using the list of variable names you just created, select a new DataFrame of the predictors data. Save this with the variable name `X`.\n",
    "4. Create a `DecisionTreeRegressorModel` and save it to a variable (with a name like my_model or iowa_model). Ensure you've done the relevant import so you can run this command.\n",
    "5. Fit the model you have created using the data in `X` and the target data you saved above.\n",
    "6. Make a few predictions with the model's `predict` command and print out the predictions.  \n",
    "\n",
    "\n",
    "---\n",
    "\n",
    "# Continue\n",
    "\n",
    "You've built a decision tree model that can predict the prices of houses based on their characteristics.  It's natural to ask how accurate the model's predictions will be, and measuring accuracy is necessary for us to see whether or not other approaches improve our model. \n",
    "\n",
    "Move on to the [next page](https://www.kaggle.com/dansbecker/model-validation) to see how we measure model accuracy.\n"
   ]
  },
  {
   "cell_type": "code",
   "execution_count": 9,
   "metadata": {},
   "outputs": [],
   "source": [
    "import pandas as pd\n",
    "\n",
    "data_train = pd.read_csv('./data/house-prices-advanced-regression-techniques/train.csv')"
   ]
  },
  {
   "cell_type": "code",
   "execution_count": 14,
   "metadata": {},
   "outputs": [],
   "source": [
    "y_train = data_train['SalePrice']"
   ]
  },
  {
   "cell_type": "code",
   "execution_count": 12,
   "metadata": {},
   "outputs": [],
   "source": [
    "predictors = [\"LotArea\", \"YearBuilt\", \"1stFlrSF\", \"2ndFlrSF\", \"FullBath\", \"BedroomAbvGr\", \"TotRmsAbvGrd\"]\n",
    "X_train = data_train[predictors]"
   ]
  },
  {
   "cell_type": "code",
   "execution_count": 13,
   "metadata": {},
   "outputs": [],
   "source": [
    "from sklearn.tree import DecisionTreeRegressor"
   ]
  },
  {
   "cell_type": "code",
   "execution_count": 15,
   "metadata": {},
   "outputs": [
    {
     "data": {
      "text/plain": [
       "DecisionTreeRegressor(criterion='mse', max_depth=None, max_features=None,\n",
       "           max_leaf_nodes=None, min_impurity_decrease=0.0,\n",
       "           min_impurity_split=None, min_samples_leaf=1,\n",
       "           min_samples_split=2, min_weight_fraction_leaf=0.0,\n",
       "           presort=False, random_state=None, splitter='best')"
      ]
     },
     "execution_count": 15,
     "metadata": {},
     "output_type": "execute_result"
    }
   ],
   "source": [
    "tree_reg = DecisionTreeRegressor()\n",
    "tree_reg.fit(X_train, y_train)"
   ]
  },
  {
   "cell_type": "code",
   "execution_count": 16,
   "metadata": {},
   "outputs": [
    {
     "name": "stdout",
     "output_type": "stream",
     "text": [
      "Making predictions for the following 5 houses:\n",
      "   LotArea  YearBuilt  1stFlrSF  2ndFlrSF  FullBath  BedroomAbvGr  \\\n",
      "0     8450       2003       856       854         2             3   \n",
      "1     9600       1976      1262         0         2             3   \n",
      "2    11250       2001       920       866         2             3   \n",
      "3     9550       1915       961       756         1             3   \n",
      "4    14260       2000      1145      1053         2             4   \n",
      "\n",
      "   TotRmsAbvGrd  \n",
      "0             8  \n",
      "1             6  \n",
      "2             6  \n",
      "3             7  \n",
      "4             9  \n",
      "The predictions are\n",
      "[208500. 181500. 223500. 140000. 250000.]\n"
     ]
    }
   ],
   "source": [
    "print(\"Making predictions for the following 5 houses:\")\n",
    "print(X_train.head())\n",
    "print(\"The predictions are\")\n",
    "print(tree_reg.predict(X_train.head()))"
   ]
  }
 ],
 "metadata": {
  "kernelspec": {
   "display_name": "Python [default]",
   "language": "python",
   "name": "python3"
  },
  "language_info": {
   "codemirror_mode": {
    "name": "ipython",
    "version": 3
   },
   "file_extension": ".py",
   "mimetype": "text/x-python",
   "name": "python",
   "nbconvert_exporter": "python",
   "pygments_lexer": "ipython3",
   "version": "3.5.5"
  }
 },
 "nbformat": 4,
 "nbformat_minor": 1
}
