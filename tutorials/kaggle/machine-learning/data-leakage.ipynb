{
 "cells": [
  {
   "cell_type": "markdown",
   "metadata": {
    "_cell_guid": "455c5288-0893-4f5c-be8f-b70a3ba51231",
    "_uuid": "978e24e319343f241547ac0ae94868a678c7f2cc"
   },
   "source": [
    "*This tutorial is part of the [Learn Machine Learning](https://www.kaggle.com/learn/machine-learning/) series. In this step, you will learn what data leakage is and how to prevent it.* \n",
    "\n",
    "\n",
    "# What is Data Leakage\n",
    "Data leakage is one of the most important issues for a data scientist to understand. If you don't know how to prevent it, leakage will come up frequently, and it will ruin your models in the most subtle and dangerous ways.  Specifically, leakage causes a model to look accurate until you start making decisions with the model, and then the model becomes very inaccurate. This tutorial will show you what leakage is and how to avoid it.\n",
    "\n",
    "There are two main types of leakage: **Leaky Predictors** and a **Leaky Validation Strategies.**\n",
    "\n",
    "## Leaky Predictors\n",
    "This occurs when your predictors include data that will not be available at the time you make predictions. \n",
    "\n",
    "For example, imagine you want to predict who will get sick with pneumonia. The top few rows of your raw data might look like this:\n",
    "\n",
    "| got_pneumonia | age | weight |  male | took_antibiotic_medicine | ... |\n",
    "|:-------------:|:---:|:------:|:-----:|:------------------------:|-----|\n",
    "|     False     |  65 |   100  | False |           False          | ... |\n",
    "|     False     |  72 |   130  |  True |           False          | ... |\n",
    "|      True     |  58 |   100  | False |           True           | ... |\n",
    "-\n",
    "\n",
    "\n",
    "People take antibiotic medicines after getting pneumonia in order to recover. So the raw data shows a strong relationship between those columns. But *took_antibiotic_medicine* is frequently changed **after** the value for *got_pneumonia* is determined. This is target leakage.\n",
    "\n",
    "The model would see that anyone who has a value of `False` for `took_antibiotic_medicine` didn't have pneumonia.  Validation data comes from the same source, so the pattern will repeat itself in validation, and the model will have great validation (or cross-validation) scores. But the model will be very inaccurate when subsequently deployed in the real world.\n",
    "\n",
    "To prevent this type of data leakage, any variable updated (or created) after the target value is realized should be excluded. Because when we use this model to make new predictions, that data won't be available to the model.\n",
    "\n",
    "![Leaky Data Graphic](https://i.imgur.com/CN4INKb.png)"
   ]
  },
  {
   "cell_type": "markdown",
   "metadata": {
    "_cell_guid": "cca14623-d55f-49ba-8907-501e9ac2acca",
    "_uuid": "e5a3cf9b1bd44f7d2c8e8672b9e8594150d30ad6"
   },
   "source": [
    "## Leaky Validation Strategy\n",
    "\n",
    "A much different type of leak occurs when you aren't careful distinguishing training data from validation data.  For example, this happens if you run preprocessing (like fitting the Imputer for missing values) before calling train_test_split.  Validation is meant to be a measure of how the model does on data it hasn't considered before.  You can corrupt this process in subtle ways if the validation data affects the preprocessing behavoir..  The end result?  Your model will get very good validation scores, giving you great confidence in it, but perform poorly when you deploy it to make decisions.\n",
    "\n",
    "\n",
    "## Preventing Leaky Predictors\n",
    "There is no single solution that universally prevents leaky predictors. It requires knowledge about your data, case-specific inspection and common sense.\n",
    "\n",
    "However, leaky predictors frequently have high statistical correlations to the target.  So two tactics to keep in mind:\n",
    "* To screen for possible leaky predictors, look for columns that are statistically correlated to your target.\n",
    "* If you build a model and find it extremely accurate, you likely have a leakage problem.\n",
    "\n",
    "## Preventing Leaky Validation Strategies\n",
    "\n",
    "If your validation is based on a simple train-test split, exclude the validation data from any type of *fitting*, including the fitting of preprocessing steps.  This is easier if you use [scikit-learn Pipelines](https://www.kaggle.com/dansbecker/pipelines).  When using cross-validation, it's even more critical that you use pipelines and do your preprocessing inside the pipeline.\n",
    "\n",
    "# Example\n",
    "We will use a small dataset about credit card applications, and we will build a model predicting which applications were accepted (stored in a variable called *card*).  Here is a look at the data:"
   ]
  },
  {
   "cell_type": "code",
   "execution_count": 1,
   "metadata": {
    "_cell_guid": "29c264f4-3836-4b48-b8c7-828e7bec45a0",
    "_uuid": "b95201cc2da5de79c022ab8c7cdfe38c16723907"
   },
   "outputs": [
    {
     "data": {
      "text/html": [
       "<div>\n",
       "<style scoped>\n",
       "    .dataframe tbody tr th:only-of-type {\n",
       "        vertical-align: middle;\n",
       "    }\n",
       "\n",
       "    .dataframe tbody tr th {\n",
       "        vertical-align: top;\n",
       "    }\n",
       "\n",
       "    .dataframe thead th {\n",
       "        text-align: right;\n",
       "    }\n",
       "</style>\n",
       "<table border=\"1\" class=\"dataframe\">\n",
       "  <thead>\n",
       "    <tr style=\"text-align: right;\">\n",
       "      <th></th>\n",
       "      <th>card</th>\n",
       "      <th>reports</th>\n",
       "      <th>age</th>\n",
       "      <th>income</th>\n",
       "      <th>share</th>\n",
       "      <th>expenditure</th>\n",
       "      <th>owner</th>\n",
       "      <th>selfemp</th>\n",
       "      <th>dependents</th>\n",
       "      <th>months</th>\n",
       "      <th>majorcards</th>\n",
       "      <th>active</th>\n",
       "    </tr>\n",
       "  </thead>\n",
       "  <tbody>\n",
       "    <tr>\n",
       "      <th>0</th>\n",
       "      <td>True</td>\n",
       "      <td>0</td>\n",
       "      <td>37.66667</td>\n",
       "      <td>4.5200</td>\n",
       "      <td>0.033270</td>\n",
       "      <td>124.983300</td>\n",
       "      <td>True</td>\n",
       "      <td>False</td>\n",
       "      <td>3</td>\n",
       "      <td>54</td>\n",
       "      <td>1</td>\n",
       "      <td>12</td>\n",
       "    </tr>\n",
       "    <tr>\n",
       "      <th>1</th>\n",
       "      <td>True</td>\n",
       "      <td>0</td>\n",
       "      <td>33.25000</td>\n",
       "      <td>2.4200</td>\n",
       "      <td>0.005217</td>\n",
       "      <td>9.854167</td>\n",
       "      <td>False</td>\n",
       "      <td>False</td>\n",
       "      <td>3</td>\n",
       "      <td>34</td>\n",
       "      <td>1</td>\n",
       "      <td>13</td>\n",
       "    </tr>\n",
       "    <tr>\n",
       "      <th>2</th>\n",
       "      <td>True</td>\n",
       "      <td>0</td>\n",
       "      <td>33.66667</td>\n",
       "      <td>4.5000</td>\n",
       "      <td>0.004156</td>\n",
       "      <td>15.000000</td>\n",
       "      <td>True</td>\n",
       "      <td>False</td>\n",
       "      <td>4</td>\n",
       "      <td>58</td>\n",
       "      <td>1</td>\n",
       "      <td>5</td>\n",
       "    </tr>\n",
       "    <tr>\n",
       "      <th>3</th>\n",
       "      <td>True</td>\n",
       "      <td>0</td>\n",
       "      <td>30.50000</td>\n",
       "      <td>2.5400</td>\n",
       "      <td>0.065214</td>\n",
       "      <td>137.869200</td>\n",
       "      <td>False</td>\n",
       "      <td>False</td>\n",
       "      <td>0</td>\n",
       "      <td>25</td>\n",
       "      <td>1</td>\n",
       "      <td>7</td>\n",
       "    </tr>\n",
       "    <tr>\n",
       "      <th>4</th>\n",
       "      <td>True</td>\n",
       "      <td>0</td>\n",
       "      <td>32.16667</td>\n",
       "      <td>9.7867</td>\n",
       "      <td>0.067051</td>\n",
       "      <td>546.503300</td>\n",
       "      <td>True</td>\n",
       "      <td>False</td>\n",
       "      <td>2</td>\n",
       "      <td>64</td>\n",
       "      <td>1</td>\n",
       "      <td>5</td>\n",
       "    </tr>\n",
       "  </tbody>\n",
       "</table>\n",
       "</div>"
      ],
      "text/plain": [
       "   card  reports       age  income     share  expenditure  owner  selfemp  \\\n",
       "0  True        0  37.66667  4.5200  0.033270   124.983300   True    False   \n",
       "1  True        0  33.25000  2.4200  0.005217     9.854167  False    False   \n",
       "2  True        0  33.66667  4.5000  0.004156    15.000000   True    False   \n",
       "3  True        0  30.50000  2.5400  0.065214   137.869200  False    False   \n",
       "4  True        0  32.16667  9.7867  0.067051   546.503300   True    False   \n",
       "\n",
       "   dependents  months  majorcards  active  \n",
       "0           3      54           1      12  \n",
       "1           3      34           1      13  \n",
       "2           4      58           1       5  \n",
       "3           0      25           1       7  \n",
       "4           2      64           1       5  "
      ]
     },
     "execution_count": 1,
     "metadata": {},
     "output_type": "execute_result"
    }
   ],
   "source": [
    "import pandas as pd\n",
    "\n",
    "data = pd.read_csv('./data/AER_credit_card_data.csv', \n",
    "                   true_values = ['yes'],\n",
    "                   false_values = ['no'])\n",
    "data.head()"
   ]
  },
  {
   "cell_type": "markdown",
   "metadata": {
    "_cell_guid": "12d34c22-ad00-4e6c-9d0b-443ab54caf35",
    "_uuid": "60436a2d7d8e7b87ce891639a2727b77761ff08d"
   },
   "source": [
    "We can see with `data.shape` that this is a small dataset (1312 rows), so we should use cross-validation to ensure accurate measures of model quality"
   ]
  },
  {
   "cell_type": "code",
   "execution_count": 2,
   "metadata": {
    "_cell_guid": "29a27f97-44b1-408f-95fb-00a6f01ea93f",
    "_uuid": "46cad269244b866c179b00f7f9048b9dc29e9de9"
   },
   "outputs": [
    {
     "data": {
      "text/plain": [
       "(1319, 12)"
      ]
     },
     "execution_count": 2,
     "metadata": {},
     "output_type": "execute_result"
    }
   ],
   "source": [
    "data.shape"
   ]
  },
  {
   "cell_type": "code",
   "execution_count": 3,
   "metadata": {
    "_cell_guid": "2e15597f-171e-4da0-8c52-96c42f073a36",
    "_uuid": "90ea96255857648ffd6e74f33bf7e23c1c3da467"
   },
   "outputs": [
    {
     "name": "stdout",
     "output_type": "stream",
     "text": [
      "Cross-val accuracy: 0.980284\n"
     ]
    }
   ],
   "source": [
    "from sklearn.pipeline import make_pipeline\n",
    "from sklearn.ensemble import RandomForestClassifier\n",
    "from sklearn.model_selection import cross_val_score\n",
    "\n",
    "y = data.card\n",
    "X = data.drop(['card'], axis=1)\n",
    "\n",
    "# Since there was no preprocessing, we didn't need a pipeline here. Used anyway as best practice\n",
    "modeling_pipeline = make_pipeline(RandomForestClassifier())\n",
    "cv_scores = cross_val_score(modeling_pipeline, X, y, scoring='accuracy')\n",
    "\n",
    "print(\"Cross-val accuracy: %f\" %cv_scores.mean())"
   ]
  },
  {
   "cell_type": "markdown",
   "metadata": {
    "_cell_guid": "722ccd83-3d23-4d4e-989e-a9f3a719b308",
    "_uuid": "d7faed322b2b993b56f18922dac556950bfa8190"
   },
   "source": [
    "With experience, you'll find that it's very rare to find models that are accurate 98% of the time.  It happens, but it's rare enough that we should inspect the data more closely to see if it is target leakage.\n",
    "\n",
    "Here is a summary of the data, which you can also find under the data tab:\n",
    "\n",
    " - **card:** Dummy variable, 1 if application for credit card accepted, 0 if not\n",
    " - **reports:** Number of major derogatory reports\n",
    " - **age:** Age n years plus twelfths of a year\n",
    " - **income:** Yearly income (divided by 10,000)\n",
    " - **share:** Ratio of monthly credit card expenditure to yearly income\n",
    " - **expenditure:** Average monthly credit card expenditure\n",
    " - **owner:** 1 if owns their home, 0 if rent\n",
    " - **selfempl:** 1 if self employed, 0 if not.\n",
    " - **dependents:** 1 + number of dependents\n",
    " - **months:** Months living at current address\n",
    " - **majorcards:** Number of major credit cards held\n",
    " - **active:** Number of active credit accounts\n",
    "\n",
    "A few variables look suspicious.  For example, does **expenditure** mean expenditure on this card or on cards used before appying?\n",
    "\n",
    "At this point, basic data comparisons can be very helpful:"
   ]
  },
  {
   "cell_type": "code",
   "execution_count": 4,
   "metadata": {
    "_cell_guid": "1778dd97-db7e-47e6-a8bd-bb48e6da6327",
    "_uuid": "f6e587b54c565c9ca7990da8ff74ec4252c4ae49"
   },
   "outputs": [
    {
     "name": "stdout",
     "output_type": "stream",
     "text": [
      "Fraction of those who received a card with no expenditures: 0.02\n",
      "Fraction of those who received a card with no expenditures: 1.00\n"
     ]
    }
   ],
   "source": [
    "expenditures_cardholders = data.expenditure[data.card]\n",
    "expenditures_noncardholders = data.expenditure[~data.card]\n",
    "\n",
    "print('Fraction of those who received a card with no expenditures: %.2f' \\\n",
    "      %(( expenditures_cardholders == 0).mean()))\n",
    "print('Fraction of those who received a card with no expenditures: %.2f' \\\n",
    "      %((expenditures_noncardholders == 0).mean()))"
   ]
  },
  {
   "cell_type": "markdown",
   "metadata": {
    "_cell_guid": "6ce5490e-f5eb-4ab8-b6cd-9309c1b3d832",
    "_uuid": "a5120e2851e400a9d70018496ceb4523a680ca06"
   },
   "source": [
    "Everyone with `card == False` had no expenditures, while only 2% of those with `card == True` had no expenditures.  It's not surprising that our model appeared to have a high accuracy. But this seems a data leak, where expenditures probably means *expenditures on the card they applied for.**. \n",
    "\n",
    "Since **share** is partially determined by **expenditure**, it should be excluded too.  The variables **active**, **majorcards** are a little less clear, but from the description, they sound concerning.  In most situations, it's better to be safe than sorry if you can't track down the people who created the data to find out more.\n",
    "\n",
    "We would run a model without leakage as follows:"
   ]
  },
  {
   "cell_type": "code",
   "execution_count": 5,
   "metadata": {
    "_cell_guid": "6364e8d5-bb75-4f57-b635-f43627b72d62",
    "_uuid": "85f3ba9371ddb581005e096825c603faeacb9ffd"
   },
   "outputs": [
    {
     "name": "stdout",
     "output_type": "stream",
     "text": [
      "Cross-val accuracy: 0.797584\n"
     ]
    }
   ],
   "source": [
    "potential_leaks = ['expenditure', 'share', 'active', 'majorcards']\n",
    "X2 = X.drop(potential_leaks, axis=1)\n",
    "cv_scores = cross_val_score(modeling_pipeline, X2, y, scoring='accuracy')\n",
    "print(\"Cross-val accuracy: %f\" %cv_scores.mean())"
   ]
  },
  {
   "cell_type": "markdown",
   "metadata": {
    "_cell_guid": "2b471192-b646-4b66-87db-3e977424f090",
    "_uuid": "f52399825ef93cc40a46d28c931cb3238c4bc613"
   },
   "source": [
    "This accuracy is quite a bit lower, which on the one hand is disappointing.  However, we can expect it to be right about 80% of the time when used on new applications, whereas the leaky model would likely do much worse then that (even in spite of it's higher apparent score in cross-validation.).\n",
    "\n",
    "# Conclusion\n",
    "Data leakage can be multi-million dollar mistake in many data science applications. Careful separation of training and validation data is a first step, and pipelines can help implement this separation.  Leaking predictors are a more frequent issue, and leaking predictors are harder to track down. A combination of caution, common sense and data exploration can help identify leaking predictors so you remove them from your model.\n",
    "\n",
    "# Exercise\n",
    "Review the data in your ongoing project.  Are there any predictors that may cause leakage?  As a hint, most datasets from Kaggle competitions don't have these variables. Once you get past those carefully curated datasets, this becomes a common issue.\n",
    "\n",
    "Click **[here](https://www.kaggle.com/learn/machine-learning)** to return the main page for *Learning Machine Learning.*"
   ]
  }
 ],
 "metadata": {
  "kernelspec": {
   "display_name": "Python [default]",
   "language": "python",
   "name": "python3"
  },
  "language_info": {
   "codemirror_mode": {
    "name": "ipython",
    "version": 3
   },
   "file_extension": ".py",
   "mimetype": "text/x-python",
   "name": "python",
   "nbconvert_exporter": "python",
   "pygments_lexer": "ipython3",
   "version": "3.5.5"
  }
 },
 "nbformat": 4,
 "nbformat_minor": 1
}
